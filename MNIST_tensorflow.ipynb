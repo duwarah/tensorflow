{
 "cells": [
  {
   "cell_type": "markdown",
   "metadata": {},
   "source": [
    "# MNIST"
   ]
  },
  {
   "cell_type": "code",
   "execution_count": 29,
   "metadata": {
    "collapsed": true
   },
   "outputs": [],
   "source": [
    "import os\n",
    "import numpy as np\n",
    "import tensorflow as tf\n",
    "from tensorflow.examples.tutorials.mnist import input_data\n",
    "import time"
   ]
  },
  {
   "cell_type": "code",
   "execution_count": 30,
   "metadata": {
    "collapsed": true
   },
   "outputs": [],
   "source": [
    "learning_rate = 0.01\n",
    "batch_size = 128\n",
    "n_epoch = 50"
   ]
  },
  {
   "cell_type": "code",
   "execution_count": 31,
   "metadata": {},
   "outputs": [
    {
     "name": "stdout",
     "output_type": "stream",
     "text": [
      "Extracting MNIST_data/train-images-idx3-ubyte.gz\n",
      "Extracting MNIST_data/train-labels-idx1-ubyte.gz\n",
      "Extracting MNIST_data/t10k-images-idx3-ubyte.gz\n",
      "Extracting MNIST_data/t10k-labels-idx1-ubyte.gz\n"
     ]
    }
   ],
   "source": [
    "mnist = input_data.read_data_sets('MNIST_data', one_hot=True)"
   ]
  },
  {
   "cell_type": "code",
   "execution_count": 32,
   "metadata": {
    "collapsed": true
   },
   "outputs": [],
   "source": [
    "X = tf.placeholder(tf.float32, [batch_size, 784], name='X_placeholder')\n",
    "Y = tf.placeholder(tf.float32, [batch_size, 10], name='Y_placeholder')"
   ]
  },
  {
   "cell_type": "code",
   "execution_count": 33,
   "metadata": {
    "collapsed": true
   },
   "outputs": [],
   "source": [
    "w = tf.Variable(tf.random_normal(shape=[784, 10], stddev=0.01), name='weights')\n",
    "b = tf.Variable(tf.zeros([1, 10]), name='bias')"
   ]
  },
  {
   "cell_type": "code",
   "execution_count": 34,
   "metadata": {
    "collapsed": true
   },
   "outputs": [],
   "source": [
    "logits = tf.matmul(X, w) + b"
   ]
  },
  {
   "cell_type": "code",
   "execution_count": 35,
   "metadata": {
    "collapsed": true
   },
   "outputs": [],
   "source": [
    "entropy = tf.nn.softmax_cross_entropy_with_logits(logits=logits, labels=Y, name='loss')"
   ]
  },
  {
   "cell_type": "code",
   "execution_count": 36,
   "metadata": {
    "collapsed": true
   },
   "outputs": [],
   "source": [
    "loss = tf.reduce_mean(entropy)"
   ]
  },
  {
   "cell_type": "code",
   "execution_count": 37,
   "metadata": {
    "collapsed": true
   },
   "outputs": [],
   "source": [
    "optimizer = tf.train.GradientDescentOptimizer(learning_rate).minimize(loss)"
   ]
  },
  {
   "cell_type": "code",
   "execution_count": 38,
   "metadata": {},
   "outputs": [
    {
     "name": "stdout",
     "output_type": "stream",
     "text": [
      "Average loss epoch 0: 1.286456263843394\n",
      "Average loss epoch 1: 0.7317684777688869\n",
      "Average loss epoch 2: 0.600628358084005\n",
      "Average loss epoch 3: 0.5362464955080917\n",
      "Average loss epoch 4: 0.49724151433764635\n",
      "Average loss epoch 5: 0.4702777715273948\n",
      "Average loss epoch 6: 0.45179217817622186\n",
      "Average loss epoch 7: 0.4355017558122293\n",
      "Average loss epoch 8: 0.42266184543118335\n",
      "Average loss epoch 9: 0.41311274305645956\n",
      "Average loss epoch 10: 0.4031243050918157\n",
      "Average loss epoch 11: 0.3970431196731287\n",
      "Average loss epoch 12: 0.390267384983165\n",
      "Average loss epoch 13: 0.3836955406935343\n",
      "Average loss epoch 14: 0.3794336801433897\n",
      "Average loss epoch 15: 0.37399941262526387\n",
      "Average loss epoch 16: 0.37084234368689967\n",
      "Average loss epoch 17: 0.36611439454388783\n",
      "Average loss epoch 18: 0.36309545516689895\n",
      "Average loss epoch 19: 0.35904802604294045\n",
      "Average loss epoch 20: 0.35517481573811777\n",
      "Average loss epoch 21: 0.3549213403171593\n",
      "Average loss epoch 22: 0.35055640343324845\n",
      "Average loss epoch 23: 0.34919176912391103\n",
      "Average loss epoch 24: 0.3460839653348589\n",
      "Average loss epoch 25: 0.3420865990412541\n",
      "Average loss epoch 26: 0.3435034997466005\n",
      "Average loss epoch 27: 0.33960352073877287\n",
      "Average loss epoch 28: 0.3391487056211436\n",
      "Average loss epoch 29: 0.3361398522809391\n",
      "Average loss epoch 30: 0.3352739801217904\n",
      "Average loss epoch 31: 0.33274915935970967\n",
      "Average loss epoch 32: 0.33278930895812026\n",
      "Average loss epoch 33: 0.3311431236339338\n",
      "Average loss epoch 34: 0.32568127066244335\n",
      "Average loss epoch 35: 0.32909109000559456\n",
      "Average loss epoch 36: 0.32689834585834493\n",
      "Average loss epoch 37: 0.3236692322022987\n",
      "Average loss epoch 38: 0.3248531017061714\n",
      "Average loss epoch 39: 0.3239957077867223\n",
      "Average loss epoch 40: 0.3211121221522351\n",
      "Average loss epoch 41: 0.3218255056228949\n",
      "Average loss epoch 42: 0.3191898383530148\n",
      "Average loss epoch 43: 0.3188120463997612\n",
      "Average loss epoch 44: 0.31724351745246454\n",
      "Average loss epoch 45: 0.3187672135991094\n",
      "Average loss epoch 46: 0.3146397954239434\n",
      "Average loss epoch 47: 0.31443458712184347\n",
      "Average loss epoch 48: 0.315794358581374\n",
      "Average loss epoch 49: 0.3136783180397985\n",
      "Total_time: 36.58864998817444 seconds\n",
      "Optimization Finished\n"
     ]
    }
   ],
   "source": [
    "sess = tf.Session()\n",
    "writer = tf.summary.FileWriter('./mygraph/03/logistic_reg', sess.graph)\n",
    "start_time = time.time()\n",
    "sess.run(tf.global_variables_initializer())\t\n",
    "n_batch = int(mnist.train.num_examples/batch_size)\n",
    "for i in range(n_epoch): # train the model n_epochs times\n",
    "    total_loss = 0\n",
    "    for _ in range(n_batch):\n",
    "        X_batch, Y_batch = mnist.train.next_batch(batch_size)\n",
    "        _, loss_batch = sess.run([optimizer, loss], feed_dict={X: X_batch, Y: Y_batch})\n",
    "        total_loss += loss_batch\n",
    "    print('Average loss epoch {0}: {1}'.format(i, total_loss/n_batch))\n",
    "print('Total_time: {0} seconds'.format(time.time() - start_time))\n",
    "print('Optimization Finished')\n",
    "    "
   ]
  },
  {
   "cell_type": "code",
   "execution_count": 39,
   "metadata": {},
   "outputs": [
    {
     "name": "stdout",
     "output_type": "stream",
     "text": [
      "Accuracy 0.9162\n"
     ]
    }
   ],
   "source": [
    "#Test model\n",
    "n_batch = int(mnist.test.num_examples/batch_size)\n",
    "total_correct_preds = 0\n",
    "for i in range(n_batch):\n",
    "    X_batch, Y_batch = mnist.test.next_batch(batch_size)\n",
    "    #_ = sess.run([optimizer], feed_dict={X: X_batch, Y: Y_batch})\n",
    "    #loss_batch = sess.run([loss], feed_dict={X: X_batch, Y: Y_batch})\n",
    "    #logits_batch = sess.run([logits], feed_dict={X: X_batch, Y: Y_batch})\n",
    "    _, logits_batch = sess.run([optimizer, logits], feed_dict={X: X_batch, Y: Y_batch})\n",
    "    preds = tf.nn.softmax(logits_batch)\n",
    "    correct_preds = tf.equal(tf.argmax(preds, 1), tf.argmax(Y_batch, 1))\n",
    "    accuracy = tf.reduce_sum(tf.cast(correct_preds, tf.float32))\n",
    "    total_correct_preds += sess.run(accuracy)\n",
    "print('Accuracy {0}'.format(total_correct_preds/mnist.test.num_examples))\n",
    "writer.close()"
   ]
  },
  {
   "cell_type": "code",
   "execution_count": null,
   "metadata": {
    "collapsed": true
   },
   "outputs": [],
   "source": []
  }
 ],
 "metadata": {
  "kernelspec": {
   "display_name": "Python 3",
   "language": "python",
   "name": "python3"
  },
  "language_info": {
   "codemirror_mode": {
    "name": "ipython",
    "version": 3
   },
   "file_extension": ".py",
   "mimetype": "text/x-python",
   "name": "python",
   "nbconvert_exporter": "python",
   "pygments_lexer": "ipython3",
   "version": "3.6.2"
  }
 },
 "nbformat": 4,
 "nbformat_minor": 2
}
